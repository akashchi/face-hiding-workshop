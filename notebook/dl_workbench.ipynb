{
 "cells": [
  {
   "cell_type": "markdown",
   "id": "5a738240-0bcd-49db-bf90-98478ca4161b",
   "metadata": {},
   "source": [
    "# Deep Learning Workbench"
   ]
  },
  {
   "cell_type": "markdown",
   "id": "77682d88-a86e-4ac4-842c-9035d0574972",
   "metadata": {},
   "source": [
    "Deep Learning Workbench (DL Workbench) is an official OpenVINO™ graphical interface designed to make the production of pretrained deep learning models significantly easier.\n",
    "\n",
    "DL Workbench combines OpenVINO™ tools to assist you with the most commonly used tasks: import a model, analyze its performance and accuracy, visualize the outputs, optimize and prepare the model for deployment in a matter of minutes. DL Workbench will take you through the full OpenVINO™ workflow, providing the opportunity to learn about various toolkit components."
   ]
  },
  {
   "cell_type": "markdown",
   "id": "a8981352-54ba-49ad-8c40-fe469512ae6f",
   "metadata": {},
   "source": [
    "![](pictures/openvino_toolkit-dl-wb-highlighted.png)"
   ]
  },
  {
   "cell_type": "markdown",
   "id": "9e149335-64e6-483d-8812-883041beab53",
   "metadata": {},
   "source": [
    "## DL Workbench capabilities"
   ]
  },
  {
   "cell_type": "markdown",
   "id": "ff512e82-278d-4832-8381-e448fcb0848e",
   "metadata": {},
   "source": [
    "![](pictures/openvino_dl_wb.png)"
   ]
  },
  {
   "cell_type": "markdown",
   "id": "0208b101-5812-4957-b661-043032a056e1",
   "metadata": {},
   "source": [
    "## DL WB Workflow\n",
    "1. Select a model\n",
    "    * Import a model\n",
    "    * Download from Open Model Zoo\n",
    "2. Create a project\n",
    "    * Select a target environment\n",
    "    * Select or create a dataset\n",
    "    * Run inference\n",
    "3. Optimize the model\n",
    "    * Apply INT8 calibration\n",
    "        * If performance is more important than accuracy: Default method\n",
    "        * If accuracy is of paramount importance: Accuracy Aware method\n",
    "4. Assess the quality\n",
    "    * Analyze throughput and latency\n",
    "    * Measure accuracy\n",
    "    * Visualize model output\n",
    "    * etc.\n",
    "5. Find an optimal inference configuration (profile the model)\n",
    "    * Find an optimal batch and stream combination\n",
    "6. Prepare to deploy\n",
    "    * Create a deployment package"
   ]
  },
  {
   "cell_type": "markdown",
   "id": "5d7cd611-41ce-4af8-b1e2-77c69db2cd29",
   "metadata": {},
   "source": [
    "## DL WB Workflow"
   ]
  },
  {
   "cell_type": "markdown",
   "id": "2eefcb5c-db92-448c-aac4-379c030df3d8",
   "metadata": {},
   "source": [
    "### 1. Select/Import a model"
   ]
  },
  {
   "cell_type": "markdown",
   "id": "7c9770e2-1382-40a6-a827-9f71ad571d19",
   "metadata": {},
   "source": [
    "#### From Open Model Zoo"
   ]
  },
  {
   "cell_type": "markdown",
   "id": "0de7cabf-817a-46b6-94a1-871e355a79b0",
   "metadata": {},
   "source": [
    "![](pictures/import_model_wb_omz.png)"
   ]
  },
  {
   "cell_type": "markdown",
   "id": "f7e9698a-91b9-4a40-9d4f-c62053d0881a",
   "metadata": {},
   "source": [
    "![](pictures/convert_model_wb_omz.png)"
   ]
  },
  {
   "cell_type": "markdown",
   "id": "c89dcc2e-c813-477c-ba4f-669751a756f7",
   "metadata": {},
   "source": [
    "#### Upload a local model"
   ]
  },
  {
   "cell_type": "markdown",
   "id": "2ab23486-b1fc-41e9-b3b8-0e2b6ccb5070",
   "metadata": {},
   "source": [
    "![](pictures/upload-local-model.png)"
   ]
  },
  {
   "cell_type": "markdown",
   "id": "18becdad-edea-4c0e-b774-47237e14bbbc",
   "metadata": {},
   "source": [
    "### 2. Import or create a dataset"
   ]
  },
  {
   "cell_type": "markdown",
   "id": "22b10b5a-9baa-438d-ba68-5bd014b8b0e1",
   "metadata": {},
   "source": [
    "![](pictures/validation_dataset_import.png)"
   ]
  },
  {
   "cell_type": "markdown",
   "id": "fbf71eb6-b986-4815-9cb7-257f48f67234",
   "metadata": {},
   "source": [
    "![](pictures/custom_dataset.png)"
   ]
  },
  {
   "cell_type": "markdown",
   "id": "c4ce0ef2-66cb-4ad2-a379-d9010bd1ff35",
   "metadata": {},
   "source": [
    "### 3. Create a project (Run inference)"
   ]
  },
  {
   "cell_type": "markdown",
   "id": "670449bf-2052-4cb1-998f-872fcbd2b93b",
   "metadata": {},
   "source": [
    "![](pictures/create_project_selected.png)"
   ]
  },
  {
   "cell_type": "markdown",
   "id": "338e29fd-28d3-4ba8-b6be-f1e5398b5676",
   "metadata": {},
   "source": [
    "![](pictures/dashboard-page.png)"
   ]
  },
  {
   "cell_type": "markdown",
   "id": "9fda0af5-b332-4c96-99a6-40b8a18f0aba",
   "metadata": {},
   "source": [
    "### 4. Analyze the model"
   ]
  },
  {
   "cell_type": "markdown",
   "id": "5112dd1d-c31f-48e5-820d-17e053f5d404",
   "metadata": {},
   "source": [
    "#### Performance"
   ]
  },
  {
   "cell_type": "markdown",
   "id": "6d38e77e-e06d-46fe-b9ea-40384d59b9da",
   "metadata": {},
   "source": [
    "![](pictures/analyze.png)"
   ]
  },
  {
   "cell_type": "markdown",
   "id": "19cdacd1-eb2e-4635-aeba-176ba8b2e35d",
   "metadata": {},
   "source": [
    "#### Predictions"
   ]
  },
  {
   "cell_type": "markdown",
   "id": "b75885ed-2c07-4850-9b46-98dccfd89baf",
   "metadata": {},
   "source": [
    "![](pictures/predictions.png)"
   ]
  },
  {
   "cell_type": "markdown",
   "id": "cfdf7a2d-c1b3-4319-b307-046d196ebd62",
   "metadata": {},
   "source": [
    "### 5. Optimize the model"
   ]
  },
  {
   "cell_type": "markdown",
   "id": "d4ccf322-8797-41ef-920d-ef3ad96c98b3",
   "metadata": {},
   "source": [
    "#### INT8 Quantization"
   ]
  },
  {
   "cell_type": "markdown",
   "id": "188f92c6-28f0-4527-b276-7a46bb16ec2d",
   "metadata": {},
   "source": [
    "![](pictures/calibration-int8.png)"
   ]
  },
  {
   "cell_type": "markdown",
   "id": "cbe97764-7f85-43aa-b003-83df75345ece",
   "metadata": {},
   "source": [
    "### 6. Profile the model\n",
    "\n",
    "To find the best parameters for the inference.\n",
    "\n",
    "NOTE: Both original and optimized models could be profiled."
   ]
  },
  {
   "cell_type": "markdown",
   "id": "a1b5aa7e-ee52-4d12-85fa-804ddb5f99e1",
   "metadata": {},
   "source": [
    "![](pictures/group_inference.png)"
   ]
  },
  {
   "cell_type": "markdown",
   "id": "d7e2848c-73b9-42d5-9b9d-f5cf8ff9a722",
   "metadata": {},
   "source": [
    "![](pictures/group_inference_results_01.png)"
   ]
  },
  {
   "cell_type": "markdown",
   "id": "ed7f15f5-b95e-400a-a486-a0bd2cd561c7",
   "metadata": {},
   "source": [
    "## DL WB Workflow recap"
   ]
  },
  {
   "cell_type": "markdown",
   "id": "0582d78d-de73-4846-a731-7968d7a7150e",
   "metadata": {},
   "source": [
    "![](pictures/DL_WB_workflow.gif)"
   ]
  }
 ],
 "metadata": {
  "kernelspec": {
   "display_name": "Python 3 (ipykernel)",
   "language": "python",
   "name": "python3"
  },
  "language_info": {
   "codemirror_mode": {
    "name": "ipython",
    "version": 3
   },
   "file_extension": ".py",
   "mimetype": "text/x-python",
   "name": "python",
   "nbconvert_exporter": "python",
   "pygments_lexer": "ipython3",
   "version": "3.9.6"
  }
 },
 "nbformat": 4,
 "nbformat_minor": 5
}
